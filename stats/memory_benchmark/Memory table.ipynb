{
 "cells": [
  {
   "cell_type": "code",
   "execution_count": 11,
   "metadata": {},
   "outputs": [],
   "source": [
    "def get_max_memory(path):\n",
    "    with open(path, 'r') as f:\n",
    "        a = f.readlines()\n",
    "        a.remove(a[0])\n",
    "        mem = [float(a[i].split()[1]) for i in range(len(a))]\n",
    "        return max(mem)"
   ]
  },
  {
   "cell_type": "code",
   "execution_count": 13,
   "metadata": {},
   "outputs": [
    {
     "data": {
      "text/plain": [
       "([15.148438,\n",
       "  15.097656,\n",
       "  15.191406,\n",
       "  15.207031,\n",
       "  15.289062,\n",
       "  15.167969,\n",
       "  15.09375,\n",
       "  15.230469,\n",
       "  15.179688,\n",
       "  15.273438,\n",
       "  15.136719,\n",
       "  16.984375,\n",
       "  17.753906,\n",
       "  18.644531,\n",
       "  20.902344,\n",
       "  25.226562,\n",
       "  33.78125,\n",
       "  52.085938],\n",
       " [15.210938,\n",
       "  15.171875,\n",
       "  15.144531,\n",
       "  15.175781,\n",
       "  15.328125,\n",
       "  15.292969,\n",
       "  15.105469,\n",
       "  17.015625,\n",
       "  15.171875,\n",
       "  16.789062,\n",
       "  17.292969,\n",
       "  17.222656,\n",
       "  16.9375,\n",
       "  17.324219,\n",
       "  17.957031,\n",
       "  19.398438,\n",
       "  21.667969,\n",
       "  26.710938])"
      ]
     },
     "execution_count": 13,
     "metadata": {},
     "output_type": "execute_result"
    }
   ],
   "source": [
    "cs = []\n",
    "cf = []\n",
    "\n",
    "\n",
    "for i in range(18):\n",
    "    cf.append(get_max_memory('cf_' + str(2**i)+'.dat'))\n",
    "    cs.append(get_max_memory('cs_' + str(2**i)+'.dat'))\n",
    "    \n",
    "cf, cs"
   ]
  },
  {
   "cell_type": "code",
   "execution_count": 26,
   "metadata": {},
   "outputs": [],
   "source": [
    "import pandas as pd\n",
    "\n",
    "df = pd.DataFrame([cs, cf])\n",
    "df = df.rename(columns = {i : str(2**i) for i in range(18)})\n",
    "df = df.rename({0: 'parser combinator', 1: 'parser generator'})\n",
    "df.to_csv('memory_comparison.csv')"
   ]
  }
 ],
 "metadata": {
  "kernelspec": {
   "display_name": "Python 3",
   "language": "python",
   "name": "python3"
  },
  "language_info": {
   "codemirror_mode": {
    "name": "ipython",
    "version": 3
   },
   "file_extension": ".py",
   "mimetype": "text/x-python",
   "name": "python",
   "nbconvert_exporter": "python",
   "pygments_lexer": "ipython3",
   "version": "3.7.6"
  }
 },
 "nbformat": 4,
 "nbformat_minor": 4
}
