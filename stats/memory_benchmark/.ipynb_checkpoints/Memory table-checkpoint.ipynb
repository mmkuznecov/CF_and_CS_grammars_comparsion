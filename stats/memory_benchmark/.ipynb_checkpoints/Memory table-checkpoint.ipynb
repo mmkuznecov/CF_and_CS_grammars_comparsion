{
 "cells": [
  {
   "cell_type": "code",
   "execution_count": 11,
   "metadata": {},
   "outputs": [],
   "source": [
    "def get_max_memory(path):\n",
    "    with open(path, 'r') as f:\n",
    "        a = f.readlines()\n",
    "        a.remove(a[0])\n",
    "        mem = [float(a[i].split()[1]) for i in range(len(a))]\n",
    "        return max(mem)"
   ]
  },
  {
   "cell_type": "code",
   "execution_count": null,
   "metadata": {},
   "outputs": [],
   "source": [
    "cs = []\n",
    "cf = []\n",
    "\n",
    "\n",
    "for i in"
   ]
  }
 ],
 "metadata": {
  "kernelspec": {
   "display_name": "Python 3",
   "language": "python",
   "name": "python3"
  },
  "language_info": {
   "codemirror_mode": {
    "name": "ipython",
    "version": 3
   },
   "file_extension": ".py",
   "mimetype": "text/x-python",
   "name": "python",
   "nbconvert_exporter": "python",
   "pygments_lexer": "ipython3",
   "version": "3.7.6"
  }
 },
 "nbformat": 4,
 "nbformat_minor": 4
}
