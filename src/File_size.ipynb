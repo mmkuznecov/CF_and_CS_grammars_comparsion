{
 "cells": [
  {
   "cell_type": "code",
   "execution_count": 2,
   "metadata": {},
   "outputs": [],
   "source": [
    "%matplotlib inline\n",
    "from lexer import LangLexer\n",
    "from parser import LangParser\n",
    "from comb_parser import WhileCheckCorr\n",
    "import datetime\n",
    "import matplotlib.pyplot as plt\n",
    "import datetime"
   ]
  },
  {
   "cell_type": "code",
   "execution_count": 2,
   "metadata": {},
   "outputs": [],
   "source": [
    "element = 'a+=1; '"
   ]
  },
  {
   "cell_type": "code",
   "execution_count": 14,
   "metadata": {},
   "outputs": [],
   "source": [
    "# creating two types of files: with tabulation and without it\n",
    "\n",
    "def get_file(el_number, tab):\n",
    "    if tab:\n",
    "        string2parse = 'let i=1; let a=0; while i<=2 { ' + (element + '\\n') * el_number + '}'\n",
    "        name = str(el_number) + \"_tab_elms.txt\"\n",
    "    else:\n",
    "        string2parse = 'let i=1; let a=0; while i<=2 { ' + element * el_number + '}'\n",
    "        name = str(el_number) + \"_elms.txt\"\n",
    "    f = open('test_files/'+name, 'w')\n",
    "    f.write(string2parse)\n",
    "    f.close\n",
    "    return name"
   ]
  },
  {
   "cell_type": "code",
   "execution_count": 15,
   "metadata": {},
   "outputs": [
    {
     "data": {
      "text/plain": [
       "'20000_elms.txt'"
      ]
     },
     "execution_count": 15,
     "metadata": {},
     "output_type": "execute_result"
    }
   ],
   "source": [
    "get_file(20000, True)\n",
    "get_file(20000, False)"
   ]
  },
  {
   "cell_type": "code",
   "execution_count": 16,
   "metadata": {},
   "outputs": [],
   "source": [
    "import os\n",
    "\n",
    "# returns size in bytes\n",
    "\n",
    "def getSize(filename):\n",
    "    st = os.stat(filename)\n",
    "    return st.st_size"
   ]
  },
  {
   "cell_type": "code",
   "execution_count": 17,
   "metadata": {},
   "outputs": [
    {
     "data": {
      "text/plain": [
       "120032"
      ]
     },
     "execution_count": 17,
     "metadata": {},
     "output_type": "execute_result"
    }
   ],
   "source": [
    "getSize('test_files/20000_elms.txt')"
   ]
  },
  {
   "cell_type": "code",
   "execution_count": 18,
   "metadata": {},
   "outputs": [
    {
     "data": {
      "text/plain": [
       "140032"
      ]
     },
     "execution_count": 18,
     "metadata": {},
     "output_type": "execute_result"
    }
   ],
   "source": [
    "# files with tabulation require more memory\n",
    "\n",
    "getSize('test_files/20000_tab_elms.txt')"
   ]
  },
  {
   "cell_type": "code",
   "execution_count": 19,
   "metadata": {},
   "outputs": [
    {
     "data": {
      "text/plain": [
       "[1,\n",
       " 2,\n",
       " 4,\n",
       " 8,\n",
       " 16,\n",
       " 32,\n",
       " 64,\n",
       " 128,\n",
       " 256,\n",
       " 512,\n",
       " 1024,\n",
       " 2048,\n",
       " 4096,\n",
       " 8192,\n",
       " 16384,\n",
       " 32768,\n",
       " 65536,\n",
       " 131072]"
      ]
     },
     "execution_count": 19,
     "metadata": {},
     "output_type": "execute_result"
    }
   ],
   "source": [
    "set_of_numbers = [2**i for i in range(18)]\n",
    "times = []\n",
    "set_of_numbers"
   ]
  },
  {
   "cell_type": "code",
   "execution_count": 21,
   "metadata": {},
   "outputs": [],
   "source": [
    "sizes = []\n",
    "tab_sizes = []\n",
    "for i in set_of_numbers:\n",
    "    tab_sizes.append(getSize('test_files/'+get_file(i, True)))\n",
    "    sizes.append(getSize('test_files/'+get_file(i, False)))"
   ]
  },
  {
   "cell_type": "code",
   "execution_count": 23,
   "metadata": {},
   "outputs": [
    {
     "data": {
      "text/plain": [
       "([38,\n",
       "  44,\n",
       "  56,\n",
       "  80,\n",
       "  128,\n",
       "  224,\n",
       "  416,\n",
       "  800,\n",
       "  1568,\n",
       "  3104,\n",
       "  6176,\n",
       "  12320,\n",
       "  24608,\n",
       "  49184,\n",
       "  98336,\n",
       "  196640,\n",
       "  393248,\n",
       "  786464],\n",
       " [39,\n",
       "  46,\n",
       "  60,\n",
       "  88,\n",
       "  144,\n",
       "  256,\n",
       "  480,\n",
       "  928,\n",
       "  1824,\n",
       "  3616,\n",
       "  7200,\n",
       "  14368,\n",
       "  28704,\n",
       "  57376,\n",
       "  114720,\n",
       "  229408,\n",
       "  458784,\n",
       "  917536])"
      ]
     },
     "execution_count": 23,
     "metadata": {},
     "output_type": "execute_result"
    }
   ],
   "source": [
    "sizes, tab_sizes"
   ]
  },
  {
   "cell_type": "code",
   "execution_count": 24,
   "metadata": {},
   "outputs": [],
   "source": [
    "# we skip part of reading file itself, because on large files, reading time can be considered as an error\n",
    "\n",
    "def get_str(el_number):\n",
    "    return 'let i=1; let a=0; while i<=2 { ' + element * el_number + '}'"
   ]
  },
  {
   "cell_type": "code",
   "execution_count": 25,
   "metadata": {},
   "outputs": [],
   "source": [
    "lex = LangLexer()\n",
    "parser_gen = LangParser()"
   ]
  },
  {
   "cell_type": "code",
   "execution_count": 26,
   "metadata": {},
   "outputs": [],
   "source": [
    "# time test\n",
    "\n",
    "\n",
    "for i in set_of_numbers:\n",
    "    t1 = datetime.datetime.now()\n",
    "    tree = parser_gen.parse(lex.tokenize(get_str(i)))\n",
    "    t2 = datetime.datetime.now()\n",
    "    \n",
    "    times.append((t2 - t1).microseconds + (t2 - t1).seconds * 1000000)"
   ]
  },
  {
   "cell_type": "code",
   "execution_count": 28,
   "metadata": {},
   "outputs": [
    {
     "data": {
      "image/png": "[encoded data removed]",
      "text/plain": [
       "<Figure size 432x288 with 1 Axes>"
      ]
     },
     "metadata": {
      "needs_background": "light"
     },
     "output_type": "display_data"
    }
   ],
   "source": [
    "# plotting the resuts\n",
    "\n",
    "plt.plot(tab_sizes, times, 'r', label = 'WITH TAB')\n",
    "plt.plot(sizes, times, 'b', label = 'NO TAB')\n",
    "plt.ylabel('Times of execution, microseconds')\n",
    "plt.xlabel('Sizes of files, bytes')\n",
    "plt.legend()\n",
    "plt.show()"
   ]
  }
 ],
 "metadata": {
  "kernelspec": {
   "display_name": "Python 3",
   "language": "python",
   "name": "python3"
  },
  "language_info": {
   "codemirror_mode": {
    "name": "ipython",
    "version": 3
   },
   "file_extension": ".py",
   "mimetype": "text/x-python",
   "name": "python",
   "nbconvert_exporter": "python",
   "pygments_lexer": "ipython3",
   "version": "3.7.6"
  }
 },
 "nbformat": 4,
 "nbformat_minor": 4
}
