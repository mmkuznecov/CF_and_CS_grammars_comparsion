{
 "cells": [
  {
   "cell_type": "code",
   "execution_count": 2,
   "metadata": {},
   "outputs": [],
   "source": [
    "%matplotlib inline\n",
    "from lexer import LangLexer\n",
    "from parser import LangParser\n",
    "from comb_parser import WhileCheckCorr\n",
    "import datetime\n",
    "import matplotlib.pyplot as plt"
   ]
  },
  {
   "cell_type": "code",
   "execution_count": 2,
   "metadata": {},
   "outputs": [],
   "source": [
    "test_string = 'let i=1; let a=0; while i<=2 { a+=1; a+=1; }'"
   ]
  },
  {
   "cell_type": "code",
   "execution_count": 3,
   "metadata": {},
   "outputs": [],
   "source": [
    "lex = LangLexer()\n",
    "parser_gen = LangParser()\n",
    "parser_comb = WhileCheckCorr()"
   ]
  },
  {
   "cell_type": "code",
   "execution_count": 4,
   "metadata": {},
   "outputs": [],
   "source": [
    "tree = parser_gen.parse(lex.tokenize(test_string))"
   ]
  },
  {
   "cell_type": "code",
   "execution_count": 5,
   "metadata": {},
   "outputs": [
    {
     "data": {
      "text/plain": [
       "True"
      ]
     },
     "execution_count": 5,
     "metadata": {},
     "output_type": "execute_result"
    }
   ],
   "source": [
    "parser_comb.parse_obj(test_string)"
   ]
  },
  {
   "cell_type": "code",
   "execution_count": 6,
   "metadata": {},
   "outputs": [],
   "source": [
    "element = 'a+=1; '"
   ]
  },
  {
   "cell_type": "code",
   "execution_count": 7,
   "metadata": {},
   "outputs": [],
   "source": [
    "def get_str(el_number):\n",
    "    return 'let i=1; let a=0; while i<=2 { ' + element * el_number + '}'"
   ]
  },
  {
   "cell_type": "code",
   "execution_count": 8,
   "metadata": {},
   "outputs": [],
   "source": [
    "tree = parser_gen.parse(lex.tokenize(get_str(5)))"
   ]
  },
  {
   "cell_type": "code",
   "execution_count": 13,
   "metadata": {},
   "outputs": [
    {
     "data": {
      "text/plain": [
       "[1,\n",
       " 2,\n",
       " 4,\n",
       " 8,\n",
       " 16,\n",
       " 32,\n",
       " 64,\n",
       " 128,\n",
       " 256,\n",
       " 512,\n",
       " 1024,\n",
       " 2048,\n",
       " 4096,\n",
       " 8192,\n",
       " 16384,\n",
       " 32768,\n",
       " 65536,\n",
       " 131072,\n",
       " 262144,\n",
       " 524288]"
      ]
     },
     "execution_count": 13,
     "metadata": {},
     "output_type": "execute_result"
    }
   ],
   "source": [
    "# creating the set of numbers of increment operators in loop\n",
    "# double number every time to check complexity of each of algorithms time complexity\n",
    "\n",
    "set_of_numbers = [2**i for i in range(20)]\n",
    "gen_times = []\n",
    "comb_times = []\n",
    "set_of_numbers"
   ]
  },
  {
   "cell_type": "code",
   "execution_count": 14,
   "metadata": {},
   "outputs": [
    {
     "name": "stdout",
     "output_type": "stream",
     "text": [
      "CPU times: user 1h 19min 49s, sys: 1min 43s, total: 1h 21min 33s\n",
      "Wall time: 1h 21min 33s\n"
     ]
    }
   ],
   "source": [
    "# time testing\n",
    "\n",
    "%%time\n",
    "for i in set_of_numbers:\n",
    "    t1 = datetime.datetime.now()\n",
    "    tree = parser_gen.parse(lex.tokenize(get_str(i)))\n",
    "    t2 = datetime.datetime.now()\n",
    "    res = parser_comb.parse_obj(get_str(i))\n",
    "    t3 = datetime.datetime.now()\n",
    "    \n",
    "    gen_times.append((t2 - t1).microseconds + (t2 - t1).seconds * 1000000)\n",
    "    comb_times.append((t3 - t2).microseconds + (t3 - t2).seconds * 1000000)"
   ]
  },
  {
   "cell_type": "code",
   "execution_count": 15,
   "metadata": {},
   "outputs": [
    {
     "data": {
      "image/png": "[encoded data removed]",
      "text/plain": [
       "<Figure size 432x288 with 1 Axes>"
      ]
     },
     "metadata": {
      "needs_background": "light"
     },
     "output_type": "display_data"
    }
   ],
   "source": [
    "# plotting the results\n",
    "\n",
    "plt.plot(set_of_numbers, gen_times, 'r', label = 'PARSER GEN')\n",
    "plt.plot(set_of_numbers, comb_times, 'b', label = 'PARSER COMB')\n",
    "plt.xlabel('Number of operators')\n",
    "plt.ylabel('Time in microseconds')\n",
    "plt.legend()\n",
    "plt.show()"
   ]
  },
  {
   "cell_type": "code",
   "execution_count": 16,
   "metadata": {},
   "outputs": [
    {
     "data": {
      "text/plain": [
       "(2.720217874973988, 1.7882800912449923)"
      ]
     },
     "execution_count": 16,
     "metadata": {},
     "output_type": "execute_result"
    }
   ],
   "source": [
    "# get the ratio of each next iteration to previous and calculating mean of this results for each algo\n",
    "\n",
    "from statistics import mean\n",
    "gen_quotient = [gen_times[i]/gen_times[i-1] for i in range(1, len(gen_times))]\n",
    "comb_quotient = [comb_times[i]/comb_times[i-1] for i in range(1, len(comb_times))]\n",
    "mean(gen_quotient), mean(comb_quotient)"
   ]
  },
  {
   "cell_type": "code",
   "execution_count": 17,
   "metadata": {},
   "outputs": [
    {
     "data": {
      "text/plain": [
       "([0.029715882626921285,\n",
       "  1.134796238244514,\n",
       "  1.276243093922652,\n",
       "  4.915584415584416,\n",
       "  0.6516952884191985,\n",
       "  1.8418918918918918,\n",
       "  1.7828319882611885,\n",
       "  2.0419753086419754,\n",
       "  1.7646110439338976,\n",
       "  2.06766788487894,\n",
       "  2.2111077356458337,\n",
       "  3.216294871474607,\n",
       "  2.217706201481148,\n",
       "  2.9065432016614543,\n",
       "  4.2280453155387185,\n",
       "  4.493008520585001,\n",
       "  5.883647544725676,\n",
       "  4.550696977835678,\n",
       "  4.47007621915206],\n",
       " [1.0013850415512466,\n",
       "  1.0069156293222683,\n",
       "  1.2692307692307692,\n",
       "  2.5844155844155843,\n",
       "  1.1306532663316582,\n",
       "  1.4248148148148148,\n",
       "  1.957629321549259,\n",
       "  1.66485194529279,\n",
       "  1.9322858510129208,\n",
       "  1.9756470054071904,\n",
       "  2.0641400635132876,\n",
       "  2.323164436527055,\n",
       "  1.81252505184643,\n",
       "  1.928423770125331,\n",
       "  1.905898219901553,\n",
       "  1.9909968712067305,\n",
       "  1.9990562635130384,\n",
       "  2.0029870067343216,\n",
       "  2.002300821358605])"
      ]
     },
     "execution_count": 17,
     "metadata": {},
     "output_type": "execute_result"
    }
   ],
   "source": [
    "# from 16 generator test, ratio is constantly near 4.5, which is approximately 2 * 2 = 4 ~ 4.5\n",
    "# so we approximately take gen parser complexity as O(n^2)\n",
    "\n",
    "gen_quotient, comb_quotient"
   ]
  }
 ],
 "metadata": {
  "kernelspec": {
   "display_name": "Python 3",
   "language": "python",
   "name": "python3"
  },
  "language_info": {
   "codemirror_mode": {
    "name": "ipython",
    "version": 3
   },
   "file_extension": ".py",
   "mimetype": "text/x-python",
   "name": "python",
   "nbconvert_exporter": "python",
   "pygments_lexer": "ipython3",
   "version": "3.7.6"
  }
 },
 "nbformat": 4,
 "nbformat_minor": 4
}
