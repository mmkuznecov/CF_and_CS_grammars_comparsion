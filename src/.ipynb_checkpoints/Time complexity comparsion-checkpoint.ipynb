{
 "cells": [
  {
   "cell_type": "code",
   "execution_count": 1,
   "metadata": {},
   "outputs": [
    {
     "name": "stderr",
     "output_type": "stream",
     "text": [
      "WARNING: 67 shift/reduce conflicts\n",
      "WARNING: 143 reduce/reduce conflicts\n",
      "Parser debugging for LangParser written to parser.out\n"
     ]
    }
   ],
   "source": [
    "%matplotlib inline\n",
    "from lexer import LangLexer\n",
    "from parser import LangParser\n",
    "from comb_parser import WhileCheckCorr\n",
    "import datetime\n",
    "import matplotlib.pyplot as plt\n",
    "import seaborn as sn"
   ]
  },
  {
   "cell_type": "code",
   "execution_count": 2,
   "metadata": {},
   "outputs": [],
   "source": [
    "test_string = 'let i=1; let a=0; while i<=2 { a+=1; a+=1; }'"
   ]
  },
  {
   "cell_type": "code",
   "execution_count": 3,
   "metadata": {},
   "outputs": [],
   "source": [
    "lex = LangLexer()\n",
    "parser_gen = LangParser()\n",
    "parser_comb = WhileCheckCorr()"
   ]
  },
  {
   "cell_type": "code",
   "execution_count": 4,
   "metadata": {},
   "outputs": [],
   "source": [
    "tree = parser_gen.parse(lex.tokenize(test_string))"
   ]
  },
  {
   "cell_type": "code",
   "execution_count": 5,
   "metadata": {},
   "outputs": [
    {
     "data": {
      "text/plain": [
       "True"
      ]
     },
     "execution_count": 5,
     "metadata": {},
     "output_type": "execute_result"
    }
   ],
   "source": [
    "parser_comb.parse_obj(test_string)"
   ]
  },
  {
   "cell_type": "code",
   "execution_count": 6,
   "metadata": {},
   "outputs": [],
   "source": [
    "element = 'a+=1; '"
   ]
  },
  {
   "cell_type": "code",
   "execution_count": 7,
   "metadata": {},
   "outputs": [],
   "source": [
    "def get_str(el_number):\n",
    "    return 'let i=1; let a=0; while i<=2 { ' + element * el_number + '}'"
   ]
  },
  {
   "cell_type": "code",
   "execution_count": 8,
   "metadata": {},
   "outputs": [],
   "source": [
    "tree = parser_gen.parse(lex.tokenize(get_str(5)))"
   ]
  },
  {
   "cell_type": "code",
   "execution_count": 9,
   "metadata": {},
   "outputs": [
    {
     "data": {
      "text/plain": [
       "[1,\n",
       " 2,\n",
       " 4,\n",
       " 8,\n",
       " 16,\n",
       " 32,\n",
       " 64,\n",
       " 128,\n",
       " 256,\n",
       " 512,\n",
       " 1024,\n",
       " 2048,\n",
       " 4096,\n",
       " 8192,\n",
       " 16384,\n",
       " 32768,\n",
       " 65536,\n",
       " 131072]"
      ]
     },
     "execution_count": 9,
     "metadata": {},
     "output_type": "execute_result"
    }
   ],
   "source": [
    "# creating the set of numbers of increment operators in loop\n",
    "# double number every time to check complexity of each of algorithms time complexity\n",
    "\n",
    "set_of_numbers = [2**i for i in range(18)]\n",
    "gen_times = []\n",
    "comb_times = []\n",
    "set_of_numbers"
   ]
  },
  {
   "cell_type": "code",
   "execution_count": 10,
   "metadata": {},
   "outputs": [
    {
     "data": {
      "text/plain": [
       "[1, 2, 4, 8, 16, 32, 64, 128, 256, 512, 1024, 2048, 4096, 8192, 16384, 32768]"
      ]
     },
     "execution_count": 10,
     "metadata": {},
     "output_type": "execute_result"
    }
   ],
   "source": [
    "set_of_numbers[:16]"
   ]
  },
  {
   "cell_type": "code",
   "execution_count": 36,
   "metadata": {},
   "outputs": [
    {
     "name": "stdout",
     "output_type": "stream",
     "text": [
      "CPU times: user 1h 2min 6s, sys: 1.79 s, total: 1h 2min 8s\n",
      "Wall time: 1h 2min 9s\n"
     ]
    }
   ],
   "source": [
    "%%time\n",
    "# time testing\n",
    "\n",
    "from statistics import mean\n",
    "\n",
    "gen_times_list = []\n",
    "comb_times_list = []\n",
    "gen_times = []\n",
    "comb_times = []\n",
    "\n",
    "for i in range(15):\n",
    "\n",
    "    for i in set_of_numbers:\n",
    "        t1 = datetime.datetime.now()\n",
    "        tree = parser_gen.parse(lex.tokenize(get_str(i)))\n",
    "        t2 = datetime.datetime.now()\n",
    "        res = parser_comb.parse_obj(get_str(i))\n",
    "        t3 = datetime.datetime.now()\n",
    "\n",
    "        gen_times.append((t2 - t1).microseconds + (t2 - t1).seconds * 1000000)\n",
    "        comb_times.append((t3 - t2).microseconds + (t3 - t2).seconds * 1000000)\n",
    "        \n",
    "    gen_times_list.append(gen_times)\n",
    "    comb_times_list.append(comb_times)\n",
    "    gen_times = []\n",
    "    comb_times = []"
   ]
  },
  {
   "cell_type": "code",
   "execution_count": 38,
   "metadata": {},
   "outputs": [
    {
     "data": {
      "text/plain": [
       "15"
      ]
     },
     "execution_count": 38,
     "metadata": {},
     "output_type": "execute_result"
    }
   ],
   "source": [
    "len(comb_times_list)"
   ]
  },
  {
   "cell_type": "code",
   "execution_count": 37,
   "metadata": {},
   "outputs": [],
   "source": [
    "import pandas as pd\n",
    "import numpy as np\n",
    "\n",
    "gens = pd.DataFrame(gen_times_list)\n",
    "combs = pd.DataFrame(comb_times_list)\n",
    "gens.to_csv('gen_statistics.csv')\n",
    "combs.to_csv('comb_statistics.csv')"
   ]
  },
  {
   "cell_type": "code",
   "execution_count": 97,
   "metadata": {},
   "outputs": [
    {
     "data": {
      "text/html": [
       "<div>\n",
       "<style scoped>\n",
       "    .dataframe tbody tr th:only-of-type {\n",
       "        vertical-align: middle;\n",
       "    }\n",
       "\n",
       "    .dataframe tbody tr th {\n",
       "        vertical-align: top;\n",
       "    }\n",
       "\n",
       "    .dataframe thead th {\n",
       "        text-align: right;\n",
       "    }\n",
       "</style>\n",
       "<table border=\"1\" class=\"dataframe\">\n",
       "  <thead>\n",
       "    <tr style=\"text-align: right;\">\n",
       "      <th></th>\n",
       "      <th>Test number</th>\n",
       "      <th>1</th>\n",
       "      <th>2</th>\n",
       "      <th>4</th>\n",
       "      <th>8</th>\n",
       "      <th>16</th>\n",
       "      <th>32</th>\n",
       "      <th>64</th>\n",
       "      <th>128</th>\n",
       "      <th>256</th>\n",
       "      <th>512</th>\n",
       "      <th>1024</th>\n",
       "      <th>2048</th>\n",
       "      <th>4096</th>\n",
       "      <th>8192</th>\n",
       "      <th>16384</th>\n",
       "      <th>32768</th>\n",
       "      <th>65536</th>\n",
       "      <th>131072</th>\n",
       "    </tr>\n",
       "  </thead>\n",
       "  <tbody>\n",
       "    <tr>\n",
       "      <th>0</th>\n",
       "      <td>0</td>\n",
       "      <td>605</td>\n",
       "      <td>621</td>\n",
       "      <td>760</td>\n",
       "      <td>1179</td>\n",
       "      <td>1923</td>\n",
       "      <td>3359</td>\n",
       "      <td>3275</td>\n",
       "      <td>5853</td>\n",
       "      <td>10814</td>\n",
       "      <td>20236</td>\n",
       "      <td>36491</td>\n",
       "      <td>80227</td>\n",
       "      <td>188737</td>\n",
       "      <td>537512</td>\n",
       "      <td>1765702</td>\n",
       "      <td>6360990</td>\n",
       "      <td>32169022</td>\n",
       "      <td>196002991</td>\n",
       "    </tr>\n",
       "    <tr>\n",
       "      <th>1</th>\n",
       "      <td>1</td>\n",
       "      <td>616</td>\n",
       "      <td>341</td>\n",
       "      <td>326</td>\n",
       "      <td>459</td>\n",
       "      <td>674</td>\n",
       "      <td>1190</td>\n",
       "      <td>2241</td>\n",
       "      <td>4792</td>\n",
       "      <td>8734</td>\n",
       "      <td>17717</td>\n",
       "      <td>37929</td>\n",
       "      <td>82958</td>\n",
       "      <td>194575</td>\n",
       "      <td>516706</td>\n",
       "      <td>1859712</td>\n",
       "      <td>6151508</td>\n",
       "      <td>39280529</td>\n",
       "      <td>198427870</td>\n",
       "    </tr>\n",
       "    <tr>\n",
       "      <th>2</th>\n",
       "      <td>2</td>\n",
       "      <td>608</td>\n",
       "      <td>306</td>\n",
       "      <td>295</td>\n",
       "      <td>418</td>\n",
       "      <td>669</td>\n",
       "      <td>1211</td>\n",
       "      <td>2832</td>\n",
       "      <td>4421</td>\n",
       "      <td>8712</td>\n",
       "      <td>17816</td>\n",
       "      <td>37915</td>\n",
       "      <td>82650</td>\n",
       "      <td>195322</td>\n",
       "      <td>518325</td>\n",
       "      <td>1616076</td>\n",
       "      <td>6345533</td>\n",
       "      <td>37715691</td>\n",
       "      <td>192638287</td>\n",
       "    </tr>\n",
       "    <tr>\n",
       "      <th>3</th>\n",
       "      <td>3</td>\n",
       "      <td>615</td>\n",
       "      <td>316</td>\n",
       "      <td>312</td>\n",
       "      <td>426</td>\n",
       "      <td>693</td>\n",
       "      <td>1185</td>\n",
       "      <td>2204</td>\n",
       "      <td>4845</td>\n",
       "      <td>9411</td>\n",
       "      <td>17439</td>\n",
       "      <td>38076</td>\n",
       "      <td>83121</td>\n",
       "      <td>195551</td>\n",
       "      <td>531910</td>\n",
       "      <td>1605809</td>\n",
       "      <td>6435998</td>\n",
       "      <td>36765876</td>\n",
       "      <td>192174292</td>\n",
       "    </tr>\n",
       "    <tr>\n",
       "      <th>4</th>\n",
       "      <td>4</td>\n",
       "      <td>603</td>\n",
       "      <td>296</td>\n",
       "      <td>309</td>\n",
       "      <td>413</td>\n",
       "      <td>667</td>\n",
       "      <td>1205</td>\n",
       "      <td>2208</td>\n",
       "      <td>4362</td>\n",
       "      <td>8691</td>\n",
       "      <td>17540</td>\n",
       "      <td>38822</td>\n",
       "      <td>85699</td>\n",
       "      <td>193285</td>\n",
       "      <td>512879</td>\n",
       "      <td>1603531</td>\n",
       "      <td>6051261</td>\n",
       "      <td>35205258</td>\n",
       "      <td>193215887</td>\n",
       "    </tr>\n",
       "    <tr>\n",
       "      <th>5</th>\n",
       "      <td>5</td>\n",
       "      <td>612</td>\n",
       "      <td>319</td>\n",
       "      <td>307</td>\n",
       "      <td>424</td>\n",
       "      <td>744</td>\n",
       "      <td>1192</td>\n",
       "      <td>2202</td>\n",
       "      <td>4500</td>\n",
       "      <td>8562</td>\n",
       "      <td>21242</td>\n",
       "      <td>37357</td>\n",
       "      <td>82804</td>\n",
       "      <td>197770</td>\n",
       "      <td>514649</td>\n",
       "      <td>1606144</td>\n",
       "      <td>6043079</td>\n",
       "      <td>35823008</td>\n",
       "      <td>187844566</td>\n",
       "    </tr>\n",
       "    <tr>\n",
       "      <th>6</th>\n",
       "      <td>6</td>\n",
       "      <td>600</td>\n",
       "      <td>320</td>\n",
       "      <td>309</td>\n",
       "      <td>420</td>\n",
       "      <td>675</td>\n",
       "      <td>1190</td>\n",
       "      <td>2193</td>\n",
       "      <td>4256</td>\n",
       "      <td>9034</td>\n",
       "      <td>17426</td>\n",
       "      <td>37434</td>\n",
       "      <td>83309</td>\n",
       "      <td>196772</td>\n",
       "      <td>511937</td>\n",
       "      <td>1606854</td>\n",
       "      <td>6011188</td>\n",
       "      <td>35113632</td>\n",
       "      <td>185985127</td>\n",
       "    </tr>\n",
       "    <tr>\n",
       "      <th>7</th>\n",
       "      <td>7</td>\n",
       "      <td>619</td>\n",
       "      <td>325</td>\n",
       "      <td>335</td>\n",
       "      <td>428</td>\n",
       "      <td>670</td>\n",
       "      <td>1205</td>\n",
       "      <td>2244</td>\n",
       "      <td>4569</td>\n",
       "      <td>8895</td>\n",
       "      <td>17700</td>\n",
       "      <td>37032</td>\n",
       "      <td>83288</td>\n",
       "      <td>194621</td>\n",
       "      <td>518221</td>\n",
       "      <td>1600380</td>\n",
       "      <td>6311177</td>\n",
       "      <td>35003719</td>\n",
       "      <td>187081765</td>\n",
       "    </tr>\n",
       "    <tr>\n",
       "      <th>8</th>\n",
       "      <td>8</td>\n",
       "      <td>605</td>\n",
       "      <td>315</td>\n",
       "      <td>316</td>\n",
       "      <td>423</td>\n",
       "      <td>706</td>\n",
       "      <td>1183</td>\n",
       "      <td>2255</td>\n",
       "      <td>4331</td>\n",
       "      <td>8606</td>\n",
       "      <td>17681</td>\n",
       "      <td>37684</td>\n",
       "      <td>85123</td>\n",
       "      <td>202996</td>\n",
       "      <td>513222</td>\n",
       "      <td>1867225</td>\n",
       "      <td>6002751</td>\n",
       "      <td>35058828</td>\n",
       "      <td>188030561</td>\n",
       "    </tr>\n",
       "    <tr>\n",
       "      <th>9</th>\n",
       "      <td>9</td>\n",
       "      <td>616</td>\n",
       "      <td>326</td>\n",
       "      <td>667</td>\n",
       "      <td>956</td>\n",
       "      <td>1532</td>\n",
       "      <td>2707</td>\n",
       "      <td>5074</td>\n",
       "      <td>4592</td>\n",
       "      <td>8661</td>\n",
       "      <td>17691</td>\n",
       "      <td>37429</td>\n",
       "      <td>85889</td>\n",
       "      <td>195160</td>\n",
       "      <td>517329</td>\n",
       "      <td>1608196</td>\n",
       "      <td>6344486</td>\n",
       "      <td>35037223</td>\n",
       "      <td>191973103</td>\n",
       "    </tr>\n",
       "    <tr>\n",
       "      <th>10</th>\n",
       "      <td>10</td>\n",
       "      <td>616</td>\n",
       "      <td>321</td>\n",
       "      <td>304</td>\n",
       "      <td>416</td>\n",
       "      <td>674</td>\n",
       "      <td>1311</td>\n",
       "      <td>2246</td>\n",
       "      <td>4566</td>\n",
       "      <td>8772</td>\n",
       "      <td>17943</td>\n",
       "      <td>37960</td>\n",
       "      <td>83022</td>\n",
       "      <td>199231</td>\n",
       "      <td>531737</td>\n",
       "      <td>1609541</td>\n",
       "      <td>7299894</td>\n",
       "      <td>38637167</td>\n",
       "      <td>182272669</td>\n",
       "    </tr>\n",
       "    <tr>\n",
       "      <th>11</th>\n",
       "      <td>11</td>\n",
       "      <td>600</td>\n",
       "      <td>322</td>\n",
       "      <td>312</td>\n",
       "      <td>425</td>\n",
       "      <td>692</td>\n",
       "      <td>1182</td>\n",
       "      <td>2208</td>\n",
       "      <td>4291</td>\n",
       "      <td>8573</td>\n",
       "      <td>17214</td>\n",
       "      <td>36518</td>\n",
       "      <td>80633</td>\n",
       "      <td>199031</td>\n",
       "      <td>503717</td>\n",
       "      <td>1574626</td>\n",
       "      <td>5804314</td>\n",
       "      <td>34236203</td>\n",
       "      <td>194663833</td>\n",
       "    </tr>\n",
       "    <tr>\n",
       "      <th>12</th>\n",
       "      <td>12</td>\n",
       "      <td>603</td>\n",
       "      <td>311</td>\n",
       "      <td>335</td>\n",
       "      <td>427</td>\n",
       "      <td>669</td>\n",
       "      <td>1275</td>\n",
       "      <td>2222</td>\n",
       "      <td>4328</td>\n",
       "      <td>8740</td>\n",
       "      <td>18026</td>\n",
       "      <td>37243</td>\n",
       "      <td>82875</td>\n",
       "      <td>200811</td>\n",
       "      <td>516053</td>\n",
       "      <td>1628569</td>\n",
       "      <td>6289084</td>\n",
       "      <td>36253840</td>\n",
       "      <td>192442231</td>\n",
       "    </tr>\n",
       "    <tr>\n",
       "      <th>13</th>\n",
       "      <td>13</td>\n",
       "      <td>610</td>\n",
       "      <td>365</td>\n",
       "      <td>382</td>\n",
       "      <td>500</td>\n",
       "      <td>793</td>\n",
       "      <td>1396</td>\n",
       "      <td>2656</td>\n",
       "      <td>5444</td>\n",
       "      <td>10040</td>\n",
       "      <td>21383</td>\n",
       "      <td>44000</td>\n",
       "      <td>97200</td>\n",
       "      <td>212279</td>\n",
       "      <td>518123</td>\n",
       "      <td>1605452</td>\n",
       "      <td>6202322</td>\n",
       "      <td>37192699</td>\n",
       "      <td>192708434</td>\n",
       "    </tr>\n",
       "    <tr>\n",
       "      <th>14</th>\n",
       "      <td>14</td>\n",
       "      <td>616</td>\n",
       "      <td>322</td>\n",
       "      <td>309</td>\n",
       "      <td>423</td>\n",
       "      <td>671</td>\n",
       "      <td>1214</td>\n",
       "      <td>2205</td>\n",
       "      <td>5459</td>\n",
       "      <td>8878</td>\n",
       "      <td>17313</td>\n",
       "      <td>38038</td>\n",
       "      <td>94218</td>\n",
       "      <td>234439</td>\n",
       "      <td>611306</td>\n",
       "      <td>1605489</td>\n",
       "      <td>6160730</td>\n",
       "      <td>36373679</td>\n",
       "      <td>192899667</td>\n",
       "    </tr>\n",
       "  </tbody>\n",
       "</table>\n",
       "</div>"
      ],
      "text/plain": [
       "    Test number    1    2    4     8    16    32    64   128    256    512  \\\n",
       "0             0  605  621  760  1179  1923  3359  3275  5853  10814  20236   \n",
       "1             1  616  341  326   459   674  1190  2241  4792   8734  17717   \n",
       "2             2  608  306  295   418   669  1211  2832  4421   8712  17816   \n",
       "3             3  615  316  312   426   693  1185  2204  4845   9411  17439   \n",
       "4             4  603  296  309   413   667  1205  2208  4362   8691  17540   \n",
       "5             5  612  319  307   424   744  1192  2202  4500   8562  21242   \n",
       "6             6  600  320  309   420   675  1190  2193  4256   9034  17426   \n",
       "7             7  619  325  335   428   670  1205  2244  4569   8895  17700   \n",
       "8             8  605  315  316   423   706  1183  2255  4331   8606  17681   \n",
       "9             9  616  326  667   956  1532  2707  5074  4592   8661  17691   \n",
       "10           10  616  321  304   416   674  1311  2246  4566   8772  17943   \n",
       "11           11  600  322  312   425   692  1182  2208  4291   8573  17214   \n",
       "12           12  603  311  335   427   669  1275  2222  4328   8740  18026   \n",
       "13           13  610  365  382   500   793  1396  2656  5444  10040  21383   \n",
       "14           14  616  322  309   423   671  1214  2205  5459   8878  17313   \n",
       "\n",
       "     1024   2048    4096    8192    16384    32768     65536     131072  \n",
       "0   36491  80227  188737  537512  1765702  6360990  32169022  196002991  \n",
       "1   37929  82958  194575  516706  1859712  6151508  39280529  198427870  \n",
       "2   37915  82650  195322  518325  1616076  6345533  37715691  192638287  \n",
       "3   38076  83121  195551  531910  1605809  6435998  36765876  192174292  \n",
       "4   38822  85699  193285  512879  1603531  6051261  35205258  193215887  \n",
       "5   37357  82804  197770  514649  1606144  6043079  35823008  187844566  \n",
       "6   37434  83309  196772  511937  1606854  6011188  35113632  185985127  \n",
       "7   37032  83288  194621  518221  1600380  6311177  35003719  187081765  \n",
       "8   37684  85123  202996  513222  1867225  6002751  35058828  188030561  \n",
       "9   37429  85889  195160  517329  1608196  6344486  35037223  191973103  \n",
       "10  37960  83022  199231  531737  1609541  7299894  38637167  182272669  \n",
       "11  36518  80633  199031  503717  1574626  5804314  34236203  194663833  \n",
       "12  37243  82875  200811  516053  1628569  6289084  36253840  192442231  \n",
       "13  44000  97200  212279  518123  1605452  6202322  37192699  192708434  \n",
       "14  38038  94218  234439  611306  1605489  6160730  36373679  192899667  "
      ]
     },
     "execution_count": 97,
     "metadata": {},
     "output_type": "execute_result"
    }
   ],
   "source": [
    "gen_stat = pd.read_csv('gen_statistics.csv')\n",
    "comb_stat = pd.read_csv('comb_statistics.csv')\n",
    "\n",
    "gen_stat = gen_stat.rename(columns = {str(i) : str(2**i) for i in range(18)})\n",
    "gen_stat = gen_stat.rename(columns = {\"Unnamed: 0\" : \"Test number\"})\n",
    "\n",
    "comb_stat = comb_stat.rename(columns = {str(i) : str(2**i) for i in range(18)})\n",
    "comb_stat = comb_stat.rename(columns = {\"Unnamed: 0\" : \"Test number\"})\n",
    "\n",
    "gen_stat"
   ]
  },
  {
   "cell_type": "code",
   "execution_count": 124,
   "metadata": {},
   "outputs": [],
   "source": [
    "from statistics import stdev\n",
    "import scipy.stats as st\n",
    "\n",
    "# get important statistical info\n",
    "\n",
    "gen_stat.loc['mean'] = gen_stat.mean().astype(int)\n",
    "gen_stat.loc['stdev'] = gen_stat.std().astype(int)\n",
    "gen_stat.loc['interval_low'] = gen_stat.apply(lambda x: (st.t.interval(0.95, len(x)-1, loc=mean(x), scale=st.sem(x)))[0]).astype(int)\n",
    "gen_stat.loc['interval_up'] = gen_stat.apply(lambda x: (st.t.interval(0.95, len(x)-1, loc=mean(x), scale=st.sem(x)))[1]).astype(int)\n",
    "\n",
    "comb_stat.loc['mean'] = comb_stat.mean().astype(int)\n",
    "comb_stat.loc['stdev'] = comb_stat.std().astype(int)\n",
    "comb_stat.loc['interval_low'] = comb_stat.apply(lambda x: (st.t.interval(0.95, len(x)-1, loc=mean(x), scale=st.sem(x)))[0]).astype(int)\n",
    "comb_stat.loc['interval_up'] = comb_stat.apply(lambda x: (st.t.interval(0.95, len(x)-1, loc=mean(x), scale=st.sem(x)))[1]).astype(int)"
   ]
  },
  {
   "cell_type": "code",
   "execution_count": 125,
   "metadata": {},
   "outputs": [],
   "source": [
    "comb_stat = comb_stat.drop(columns=[\"Test number\"])\n",
    "gen_stat = gen_stat.drop(columns=[\"Test number\"])\n",
    "\n",
    "# save important info to separated .csv file\n",
    "\n",
    "gen_info = gen_stat.iloc[15:19]\n",
    "comb_info = comb_stat.iloc[15:19]\n",
    "gen_info.to_csv('gen_info.csv')\n",
    "comb_info.to_csv('comb_info.csv')"
   ]
  },
  {
   "cell_type": "code",
   "execution_count": 118,
   "metadata": {},
   "outputs": [
    {
     "data": {
      "text/plain": [
       "1         6.096000e+02\n",
       "2         3.417333e+02\n",
       "4         3.718667e+02\n",
       "8         5.158000e+02\n",
       "16        8.301333e+02\n",
       "32        1.467000e+03\n",
       "64        2.551000e+03\n",
       "128       4.707267e+03\n",
       "256       9.008200e+03\n",
       "512       1.829113e+04\n",
       "1024      3.799520e+04\n",
       "2048      8.486773e+04\n",
       "4096      2.000387e+05\n",
       "8192      5.249084e+05\n",
       "16384     1.650887e+06\n",
       "32768     6.254288e+06\n",
       "65536     3.599109e+07\n",
       "131072    1.912241e+08\n",
       "Name: mean, dtype: float64"
      ]
     },
     "execution_count": 118,
     "metadata": {},
     "output_type": "execute_result"
    }
   ],
   "source": [
    "gen_info.iloc[0]"
   ]
  },
  {
   "cell_type": "code",
   "execution_count": 40,
   "metadata": {},
   "outputs": [
    {
     "data": {
      "text/plain": [
       "([14272.533333333333,\n",
       "  341.73333333333335,\n",
       "  371.8666666666667,\n",
       "  515.8,\n",
       "  830.1333333333333,\n",
       "  1467,\n",
       "  2551,\n",
       "  4707.266666666666,\n",
       "  9008.2,\n",
       "  18291.133333333335,\n",
       "  37995.2,\n",
       "  84867.73333333334,\n",
       "  200038.66666666666,\n",
       "  524908.4,\n",
       "  1650887.0666666667,\n",
       "  6254287.666666667,\n",
       "  35991091.6,\n",
       "  191224085.53333333],\n",
       " [1157,\n",
       "  1064,\n",
       "  1105,\n",
       "  1416.5,\n",
       "  2108.5,\n",
       "  3239,\n",
       "  3884.5,\n",
       "  6772,\n",
       "  13009.5,\n",
       "  25296,\n",
       "  48303.5,\n",
       "  96536.5,\n",
       "  193416.5,\n",
       "  424991,\n",
       "  788165,\n",
       "  1541963,\n",
       "  3060989,\n",
       "  6182417])"
      ]
     },
     "execution_count": 40,
     "metadata": {},
     "output_type": "execute_result"
    }
   ],
   "source": [
    "gen_times_mean = [mean([gen_times_list[j][i] for j in range(15)]) for i in range(18)]\n",
    "comb_times_mean = [mean([comb_times_list[j][i] for j in range(2)]) for i in range(18)]\n",
    "gen_times_mean, comb_times_mean"
   ]
  },
  {
   "cell_type": "code",
   "execution_count": 119,
   "metadata": {},
   "outputs": [
    {
     "data": {
      "image/png": "[encoded data removed]",
      "text/plain": [
       "<Figure size 432x288 with 1 Axes>"
      ]
     },
     "metadata": {},
     "output_type": "display_data"
    }
   ],
   "source": [
    "# plotting the results\n",
    "\n",
    "sn.set_style('whitegrid')\n",
    "plt.plot(set_of_numbers, gen_info.iloc[0], 'r', label = 'Parser generator')\n",
    "plt.plot(set_of_numbers, comb_info.iloc[0], label = 'Parser combinator')\n",
    "plt.xlabel('Number of statements')\n",
    "plt.ylabel('Time in microseconds')\n",
    "plt.legend()\n",
    "plt.savefig('time_comparison.png', dpi = 500)\n",
    "plt.show()"
   ]
  },
  {
   "cell_type": "code",
   "execution_count": 121,
   "metadata": {},
   "outputs": [
    {
     "data": {
      "image/png": "[encoded data removed]",
      "text/plain": [
       "<Figure size 432x288 with 1 Axes>"
      ]
     },
     "metadata": {},
     "output_type": "display_data"
    }
   ],
   "source": [
    "# plotting the results 2\n",
    "\n",
    "sn.set_style('whitegrid')\n",
    "plt.plot(set_of_numbers[:16], gen_info.iloc[0][:16], 'r', label = 'Parser generator')\n",
    "plt.plot(set_of_numbers[:16], comb_info.iloc[0][:16], label = 'Parser combinator')\n",
    "plt.xlabel('Number of statements')\n",
    "plt.ylabel('Time in microseconds')\n",
    "plt.legend()\n",
    "plt.savefig('time_comparison_small.png', dpi = 500)\n",
    "plt.show()"
   ]
  },
  {
   "cell_type": "code",
   "execution_count": 126,
   "metadata": {},
   "outputs": [
    {
     "data": {
      "text/plain": [
       "(2.425016639755953, 1.7418196871114286)"
      ]
     },
     "execution_count": 126,
     "metadata": {},
     "output_type": "execute_result"
    }
   ],
   "source": [
    "# get the ratio of each next iteration to previous and calculating mean of this results for each algo\n",
    "\n",
    "from statistics import mean\n",
    "gen_quotient = [gen_info.iloc[0][i]/gen_info.iloc[0][i-1] for i in range(1, len(gen_info.iloc[0]))]\n",
    "comb_quotient = [comb_info.iloc[0][i]/comb_info.iloc[0][i-1] for i in range(1, len(comb_info.iloc[0]))]\n",
    "mean(gen_quotient), mean(comb_quotient)"
   ]
  },
  {
   "cell_type": "code",
   "execution_count": 127,
   "metadata": {},
   "outputs": [
    {
     "data": {
      "text/plain": [
       "([0.5630397236614854,\n",
       "  1.0950920245398772,\n",
       "  1.392156862745098,\n",
       "  1.6096579476861168,\n",
       "  1.76625,\n",
       "  1.7275300778485492,\n",
       "  1.8344940598115527,\n",
       "  1.9131308619919607,\n",
       "  2.0305824676082644,\n",
       "  2.077029202115429,\n",
       "  2.2337263367651943,\n",
       "  2.3570605508679328,\n",
       "  2.6240143821358735,\n",
       "  3.14515948091077,\n",
       "  3.788396484856437,\n",
       "  5.754585764270507,\n",
       "  5.31337664803615],\n",
       " [0.9355742296918768,\n",
       "  1.1197604790419162,\n",
       "  1.2740641711229947,\n",
       "  1.5036726128016789,\n",
       "  1.5764131193300768,\n",
       "  1.573262505533422,\n",
       "  1.7754642656162072,\n",
       "  1.929635499207607,\n",
       "  1.950886990801577,\n",
       "  1.9685947629872864,\n",
       "  2.0159745092168855,\n",
       "  1.964867244433601,\n",
       "  2.0177347082006154,\n",
       "  1.9607459631566977,\n",
       "  2.0294138115960423,\n",
       "  2.017436203640012,\n",
       "  1.9974336045157894])"
      ]
     },
     "execution_count": 127,
     "metadata": {},
     "output_type": "execute_result"
    }
   ],
   "source": [
    "# from 16 generator test, ratio is constantly near 4.5, which is approximately 2 * 2 = 4 ~ 4.5\n",
    "# so we approximately take gen parser complexity as O(n^2)\n",
    "\n",
    "gen_quotient, comb_quotient"
   ]
  }
 ],
 "metadata": {
  "kernelspec": {
   "display_name": "Python 3",
   "language": "python",
   "name": "python3"
  },
  "language_info": {
   "codemirror_mode": {
    "name": "ipython",
    "version": 3
   },
   "file_extension": ".py",
   "mimetype": "text/x-python",
   "name": "python",
   "nbconvert_exporter": "python",
   "pygments_lexer": "ipython3",
   "version": "3.7.6"
  }
 },
 "nbformat": 4,
 "nbformat_minor": 4
}
