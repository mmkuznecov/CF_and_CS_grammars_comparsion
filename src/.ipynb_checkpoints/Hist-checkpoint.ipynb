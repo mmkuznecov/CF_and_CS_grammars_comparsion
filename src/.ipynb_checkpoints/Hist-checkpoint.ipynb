{
 "cells": [
  {
   "cell_type": "code",
   "execution_count": 1,
   "metadata": {},
   "outputs": [
    {
     "name": "stderr",
     "output_type": "stream",
     "text": [
      "WARNING: 67 shift/reduce conflicts\n",
      "WARNING: 143 reduce/reduce conflicts\n",
      "Parser debugging for LangParser written to parser.out\n"
     ]
    }
   ],
   "source": [
    "%matplotlib inline\n",
    "from lexer import LangLexer\n",
    "from parser import LangParser\n",
    "from comb_parser import WhileCheckCorr\n",
    "import datetime\n",
    "import matplotlib.pyplot as plt\n",
    "import seaborn as sn"
   ]
  },
  {
   "cell_type": "code",
   "execution_count": 2,
   "metadata": {},
   "outputs": [],
   "source": [
    "lex = LangLexer()\n",
    "parser_gen = LangParser()\n",
    "parser_comb = WhileCheckCorr()"
   ]
  },
  {
   "cell_type": "code",
   "execution_count": 3,
   "metadata": {},
   "outputs": [],
   "source": [
    "element = 'a+=1; '"
   ]
  },
  {
   "cell_type": "code",
   "execution_count": 9,
   "metadata": {},
   "outputs": [],
   "source": [
    "prog = 'let i=1; let a=0; while i<=2 { ' + element * 16384 + '}'"
   ]
  },
  {
   "cell_type": "code",
   "execution_count": 10,
   "metadata": {},
   "outputs": [
    {
     "name": "stdout",
     "output_type": "stream",
     "text": [
      "CPU times: user 4.87 s, sys: 0 ns, total: 4.87 s\n",
      "Wall time: 4.88 s\n"
     ]
    }
   ],
   "source": [
    "%%time\n",
    "\n",
    "for i in range(2):\n",
    "\n",
    "    t1 = datetime.datetime.now()\n",
    "    tree = parser_gen.parse(lex.tokenize(prog))\n",
    "    t2 = datetime.datetime.now()\n",
    "    res = parser_comb.parse_obj(prog)\n",
    "    t3 = datetime.datetime.now()\n",
    "    gen_times.append((t2 - t1).microseconds + (t2 - t1).seconds * 1000000)\n",
    "    comb_times.append((t3 - t2).microseconds + (t3 - t2).seconds * 1000000)"
   ]
  }
 ],
 "metadata": {
  "kernelspec": {
   "display_name": "Python 3",
   "language": "python",
   "name": "python3"
  },
  "language_info": {
   "codemirror_mode": {
    "name": "ipython",
    "version": 3
   },
   "file_extension": ".py",
   "mimetype": "text/x-python",
   "name": "python",
   "nbconvert_exporter": "python",
   "pygments_lexer": "ipython3",
   "version": "3.7.6"
  }
 },
 "nbformat": 4,
 "nbformat_minor": 4
}
