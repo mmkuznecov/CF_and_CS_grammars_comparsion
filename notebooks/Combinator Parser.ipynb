{
 "cells": [
  {
   "cell_type": "code",
   "execution_count": 2,
   "metadata": {},
   "outputs": [
    {
     "name": "stdout",
     "output_type": "stream",
     "text": [
      "source: \"name\"\n",
      "value: Success('name')\n",
      "source: -12.40e2\n",
      "value: Success(-1240.0)\n",
      "source: [false, true, null]\n",
      "value: Success([False, True, None])\n",
      "source: {\"__class__\" : \"Point\", \"x\" : 2.3, \"y\" : -1.6}\n",
      "value: Success({'__class__': 'Point', 'x': 2.3, 'y': -1.6})\n",
      "source: {\"__class__\" : \"Rectangle\", \"location\" : {\"x\":-1.3,\"y\":-4.5}, \"height\" : 2.0, \"width\" : 4.0}\n",
      "value: Success({'__class__': 'Rectangle', 'location': {'x': -1.3, 'y': -4.5}, 'height': 2.0, 'width': 4.0})\n",
      "source: {\"text\" : \"\"}\n",
      "value: Success({'text': ''})\n"
     ]
    }
   ],
   "source": [
    "from parsita import *\n",
    "from parsita.util import constant\n",
    "\n",
    "# JSON definition according to https://tools.ietf.org/html/rfc7159\n",
    "\n",
    "\n",
    "class JsonStringParsers(TextParsers, whitespace=None):\n",
    "    quote = lit(r'\\\"') > constant('\"')\n",
    "    reverse_solidus = lit(r'\\\\') > constant('\\\\')\n",
    "    solidus = lit(r'\\/') > constant('/')\n",
    "    backspace = lit(r'\\b') > constant('\\b')\n",
    "    form_feed = lit(r'\\f') > constant('\\f')\n",
    "    line_feed = lit(r'\\n') > constant('\\n')\n",
    "    carriage_return = lit(r'\\r') > constant('\\r')\n",
    "    tab = lit(r'\\t') > constant('\\t')\n",
    "    uni = reg(r'\\\\u([0-9a-fA-F]{4})') > (lambda x: chr(int(x.group(1), 16)))\n",
    "\n",
    "    escaped = (quote | reverse_solidus | solidus | backspace | form_feed\n",
    "               | line_feed | carriage_return | tab | uni)\n",
    "    unescaped = reg(r'[\\u0020-\\u0021\\u0023-\\u005B\\u005D-\\U0010FFFF]+')\n",
    "\n",
    "    string = '\"' >> rep(escaped | unescaped) << '\"' > ''.join\n",
    "\n",
    "\n",
    "class JsonParsers(TextParsers, whitespace=r'[ \\t\\n\\r]*'):\n",
    "    number = reg(r'-?(0|[1-9][0-9]*)(\\.[0-9]+)?([eE][-+]?[0-9]+)?') > float\n",
    "\n",
    "    false = lit('false') > constant(False)\n",
    "    true = lit('true') > constant(True)\n",
    "    null = lit('null') > constant(None)\n",
    "\n",
    "    string = JsonStringParsers.string\n",
    "\n",
    "    array = '[' >> repsep(value, ',') << ']'\n",
    "\n",
    "    entry = string << ':' & value\n",
    "    obj = '{' >> repsep(entry, ',') << '}' > dict\n",
    "\n",
    "    value = number | false | true | null | string | array | obj\n",
    "\n",
    "\n",
    "if __name__ == '__main__':\n",
    "    strings = [\n",
    "        '\"name\"',\n",
    "        '-12.40e2',\n",
    "        '[false, true, null]',\n",
    "        '{\"__class__\" : \"Point\", \"x\" : 2.3, \"y\" : -1.6}',\n",
    "        '{\"__class__\" : \"Rectangle\", \"location\" : {\"x\":-1.3,\"y\":-4.5}, \"height\" : 2.0, \"width\" : 4.0}',\n",
    "        '{\"text\" : \"\"}',\n",
    "    ]\n",
    "\n",
    "    for string in strings:\n",
    "        print('source: {}\\nvalue: {}'.format(string, JsonParsers.value.parse(string)))"
   ]
  },
  {
   "cell_type": "code",
   "execution_count": 6,
   "metadata": {},
   "outputs": [
    {
     "name": "stdout",
     "output_type": "stream",
     "text": [
      "123 = 123.0\n",
      "2 ^ 3 = 8.0\n",
      "1 + 1 = 2.0\n",
      "1 - 2 + 3 - 4 = -2.0\n",
      "3 - 4 * 2 + 10 = 5.0\n",
      "14 / (3.1 + 3.9) = 2.0\n"
     ]
    }
   ],
   "source": [
    "from parsita import *\n",
    "\n",
    "\n",
    "class ExpressionParsers(TextParsers):\n",
    "    number = reg(r'[+-]?\\d+(\\.\\d+)?(e[+-]?\\d+)?') > float\n",
    "\n",
    "    base = '(' >> expr << ')' | number\n",
    "\n",
    "    factor = base & opt('^' >> base) > (lambda x: x[0] ** x[1][0] if x[1] else x[0])\n",
    "\n",
    "    def make_term(args):\n",
    "        factor1, factors = args\n",
    "        result = factor1\n",
    "        for op, factor in factors:\n",
    "            if op == '*':\n",
    "                result = result * factor\n",
    "            else:\n",
    "                result = result / factor\n",
    "        return result\n",
    "    term = factor & rep(lit('*', '/') & factor) > make_term\n",
    "\n",
    "    def make_expr(args):\n",
    "        term1, terms = args\n",
    "        result = term1\n",
    "        for op, term2 in terms:\n",
    "            if op == '+':\n",
    "                result = result + term2\n",
    "            else:\n",
    "                result = result - term2\n",
    "        return result\n",
    "    expr = term & rep(lit('+', '-') & term) > make_expr\n",
    "\n",
    "\n",
    "if __name__ == '__main__':\n",
    "    expressions = ['123', '2 ^ 3', '1 + 1', '1 - 2 + 3 - 4', '3 - 4 * 2 + 10', '14 / (3.1 + 3.9)']\n",
    "\n",
    "    for expression in expressions:\n",
    "        print('{} = {}'.format(expression, ExpressionParsers.expr.parse(expression).value))"
   ]
  }
 ],
 "metadata": {
  "kernelspec": {
   "display_name": "Python 3",
   "language": "python",
   "name": "python3"
  },
  "language_info": {
   "codemirror_mode": {
    "name": "ipython",
    "version": 3
   },
   "file_extension": ".py",
   "mimetype": "text/x-python",
   "name": "python",
   "nbconvert_exporter": "python",
   "pygments_lexer": "ipython3",
   "version": "3.7.6"
  }
 },
 "nbformat": 4,
 "nbformat_minor": 4
}
