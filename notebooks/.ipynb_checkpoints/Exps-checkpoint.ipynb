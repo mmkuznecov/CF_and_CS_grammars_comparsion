{
 "cells": [
  {
   "cell_type": "code",
   "execution_count": 1,
   "metadata": {},
   "outputs": [],
   "source": [
    "with open('codes.txt', \"w\") as f:\n",
    "    for i in range(10000):\n",
    "        f.write('a+=1;\\n')"
   ]
  },
  {
   "cell_type": "code",
   "execution_count": 18,
   "metadata": {},
   "outputs": [
    {
     "name": "stdout",
     "output_type": "stream",
     "text": [
      "operand_1; operand_2; operand_3\n"
     ]
    }
   ],
   "source": [
    "with open('string_test.txt', 'r') as f:\n",
    "    lines = f.readlines()\n",
    "    lines = [line[:-1] for line in lines]\n",
    "    list_of_lens = []\n",
    "    for i in lines:\n",
    "        list_of_lens.append(len(i))\n",
    "    res = \" \".join(lines)\n",
    "    print(res)"
   ]
  },
  {
   "cell_type": "code",
   "execution_count": 19,
   "metadata": {},
   "outputs": [],
   "source": [
    "def text_file2string(path):\n",
    "    with open(path, 'r') as f:\n",
    "        return \" \".join([line[:-1] for line in f.readlines()])"
   ]
  },
  {
   "cell_type": "code",
   "execution_count": 21,
   "metadata": {},
   "outputs": [
    {
     "data": {
      "text/plain": [
       "'operand_1; operand_2; operand_3'"
      ]
     },
     "execution_count": 21,
     "metadata": {},
     "output_type": "execute_result"
    }
   ],
   "source": [
    "text_file2string('string_test.txt')"
   ]
  },
  {
   "cell_type": "code",
   "execution_count": 22,
   "metadata": {},
   "outputs": [
    {
     "name": "stdout",
     "output_type": "stream",
     "text": [
      "operand_1;\n",
      "operand_2;\n",
      "operand_3;\n"
     ]
    }
   ],
   "source": [
    "with open('string_test.txt', 'r') as f:\n",
    "    print(f.read())"
   ]
  }
 ],
 "metadata": {
  "kernelspec": {
   "display_name": "Python 3",
   "language": "python",
   "name": "python3"
  },
  "language_info": {
   "codemirror_mode": {
    "name": "ipython",
    "version": 3
   },
   "file_extension": ".py",
   "mimetype": "text/x-python",
   "name": "python",
   "nbconvert_exporter": "python",
   "pygments_lexer": "ipython3",
   "version": "3.7.6"
  }
 },
 "nbformat": 4,
 "nbformat_minor": 4
}
