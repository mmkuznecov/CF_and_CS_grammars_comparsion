{
 "cells": [
  {
   "cell_type": "code",
   "execution_count": 14,
   "metadata": {},
   "outputs": [],
   "source": [
    "input_tokens = ['{','a',';','}']"
   ]
  },
  {
   "cell_type": "code",
   "execution_count": 8,
   "metadata": {},
   "outputs": [],
   "source": [
    "from sys import stdin\n",
    "\n",
    "from parsy import generate, regex, string\n",
    "\n",
    "class WhileCheckCorr:\n",
    "    \n",
    "    def parse_obj(self, tokens):\n",
    "\n",
    "        whitespace = regex(r'\\s*') #\n",
    "        while_stmt = string('while')\n",
    "\n",
    "        lexeme = lambda p: p << whitespace\n",
    "        lbrace = lexeme(string('{'))\n",
    "        rbrace = lexeme(string('}'))\n",
    "\n",
    "        content = whitespace >> regex(r'\\b(?:0x)?\\d+\\b') << whitespace\n",
    "        # content = regex(r'^(?!while).*$')\n",
    "        #content = regex(r'\\b(?:(?!while)\\w|\\W)+\\b')\n",
    "        # content = regex(r'\\b(?:(?!while)\\S)+\\b')\n",
    "\n",
    "        while_obj = lbrace >> content.many() << rbrace\n",
    "        make = whitespace >> while_obj << whitespace\n",
    "        while_cond = content.many()\n",
    "        while_ = while_stmt >> while_cond >> make\n",
    "        contin = make << content.many()\n",
    "        prev = (contin | content.many())\n",
    "        while_1 = whitespace >> while_ << whitespace\n",
    "        full_make = (prev >> while_1 << prev | prev >> while_1)\n",
    "        \n",
    "        try:\n",
    "            res = full_make.parse(tokens)\n",
    "            return True\n",
    "        except Exception as err:\n",
    "            print(err)"
   ]
  },
  {
   "cell_type": "code",
   "execution_count": 9,
   "metadata": {},
   "outputs": [],
   "source": [
    "checker = WhileCheckCorr()\n",
    "#checker.parse_obj('let i = 1; while i <= 1000 { print(i); i *= 2; } // prog in one string')"
   ]
  },
  {
   "cell_type": "code",
   "execution_count": 10,
   "metadata": {},
   "outputs": [
    {
     "data": {
      "text/plain": [
       "True"
      ]
     },
     "execution_count": 10,
     "metadata": {},
     "output_type": "execute_result"
    }
   ],
   "source": [
    "checker.parse_obj(\"123 123 while 123 { 124 13 } 123 123 123\")"
   ]
  },
  {
   "cell_type": "code",
   "execution_count": 13,
   "metadata": {},
   "outputs": [
    {
     "name": "stdout",
     "output_type": "stream",
     "text": [
      "expected one of '\\\\b(?:0x)?\\\\d+\\\\b', 'while', '{' at 0:0\n"
     ]
    }
   ],
   "source": [
    "checker.parse_obj('let i=1 let a=0 while i<=2 { a+=1}')"
   ]
  },
  {
   "cell_type": "code",
   "execution_count": 3,
   "metadata": {},
   "outputs": [
    {
     "name": "stdout",
     "output_type": "stream",
     "text": [
      "expected one of '\\\\b(?:0x)?\\\\d+\\\\b', 'while', '{' at 0:0\n"
     ]
    }
   ],
   "source": [
    "str_pr = \"let i = 1; let a = 0; while i <= 2 { print(i); a+=1;}\"\n",
    "checker.parse_obj(str_pr)"
   ]
  },
  {
   "cell_type": "code",
   "execution_count": 9,
   "metadata": {},
   "outputs": [],
   "source": [
    "from sys import stdin\n",
    "\n",
    "from parsy import generate, regex, string\n",
    "\n",
    "class ExpCheckCorr:\n",
    "    \n",
    "    def parse_obj(self, tokens):\n",
    "\n",
    "        whitespace = regex(r'\\s*') #\n",
    "        while_stmt = string('while')\n",
    "\n",
    "        lexeme = lambda p: p << whitespace\n",
    "        lbrace = lexeme(string('{'))\n",
    "        rbrace = lexeme(string('}'))\n",
    "\n",
    "        # content = regex(r'\\b(?:0x)?\\d+\\b')\n",
    "        #content = regex(r'[^]+')\n",
    "        # content = regex(r'^(?!while)')\n",
    "        content = regex(r'^/(?!ignoreme|ignoreme2|ignoremeN)([a-z0-9]+)')\n",
    "\n",
    "        \"\"\"while_obj = lbrace >> content << rbrace\n",
    "        make = whitespace >> while_obj << whitespace\n",
    "        while_ = while_stmt >> make\n",
    "        while_1 = whitespace >> while_ << whitespace\n",
    "        full_make = (content >> while_1 << content | content >> while_1)\"\"\"\n",
    "        \n",
    "        try:\n",
    "            res = content.parse(tokens)\n",
    "            return True\n",
    "        except Exception as err:\n",
    "            print(err)"
   ]
  },
  {
   "cell_type": "code",
   "execution_count": 8,
   "metadata": {},
   "outputs": [],
   "source": [
    "from sys import stdin\n",
    "\n",
    "from parsy import generate, regex, string\n",
    "\n",
    "class RegCheckCorr:\n",
    "    \n",
    "    def parse_obj(self, tokens):\n",
    "\n",
    "        whitespace = regex(r'\\s*') #\n",
    "        while_stmt = string('while')\n",
    "\n",
    "        lexeme = lambda p: p << whitespace\n",
    "        lbrace = lexeme(string('{'))\n",
    "        rbrace = lexeme(string('}'))\n",
    "        colon = lexeme(string(';'))\n",
    "\n",
    "        #content = whitespace >> regex(r'\\b(?:0x)?\\d+\\b') << whitespace\n",
    "        # content = regex(r'^(?!while).*$')\n",
    "        #content = regex(r'\\b(?:(?!while)\\w|\\W)+\\b')\n",
    "        # content = regex(r'\\b(?:(?!while)\\S)+\\b')\n",
    "        cont = whitespace >> regex(r'\\b(?:(?!while)\\S)+\\b') << whitespace\n",
    "        \n",
    "        \n",
    "        \n",
    "        content = (cont << colon | cont)\n",
    "        \n",
    "\n",
    "        while_obj = lbrace >> content.many() << rbrace\n",
    "        make = whitespace >> while_obj << whitespace\n",
    "        while_cond = content.many()\n",
    "        while_ = while_stmt >> while_cond >> make\n",
    "        contin = make << content.many()\n",
    "        prev = (contin | content.many())\n",
    "        while_1 = whitespace >> while_ << whitespace\n",
    "        full_make = (prev >> while_1 << prev | prev >> while_1)\n",
    "        \n",
    "        try:\n",
    "            res = full_make.parse(tokens)\n",
    "            return True\n",
    "        except Exception as err:\n",
    "            return err"
   ]
  },
  {
   "cell_type": "code",
   "execution_count": null,
   "metadata": {},
   "outputs": [],
   "source": []
  },
  {
   "cell_type": "code",
   "execution_count": 11,
   "metadata": {},
   "outputs": [
    {
     "data": {
      "text/plain": [
       "True"
      ]
     },
     "execution_count": 11,
     "metadata": {},
     "output_type": "execute_result"
    }
   ],
   "source": [
    "checker_ = RegCheckCorr()\n",
    "checker_.parse_obj('let i=1; let a=0; while i<=2 { a+=1; a+=1;}')"
   ]
  },
  {
   "cell_type": "code",
   "execution_count": 13,
   "metadata": {},
   "outputs": [
    {
     "data": {
      "text/plain": [
       "\"expected one of '\\\\\\\\b(?:(?!while)\\\\\\\\S)+\\\\\\\\b', '}' at 0:42\""
      ]
     },
     "execution_count": 13,
     "metadata": {},
     "output_type": "execute_result"
    }
   ],
   "source": [
    "str(checker_.parse_obj(\"let i=1; let a=0; while i<=2 { i+=1; a+=1;\"))"
   ]
  }
 ],
 "metadata": {
  "kernelspec": {
   "display_name": "Python 3",
   "language": "python",
   "name": "python3"
  },
  "language_info": {
   "codemirror_mode": {
    "name": "ipython",
    "version": 3
   },
   "file_extension": ".py",
   "mimetype": "text/x-python",
   "name": "python",
   "nbconvert_exporter": "python",
   "pygments_lexer": "ipython3",
   "version": "3.7.6"
  }
 },
 "nbformat": 4,
 "nbformat_minor": 4
}
